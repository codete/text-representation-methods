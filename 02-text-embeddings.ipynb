{
 "cells": [
  {
   "cell_type": "markdown",
   "metadata": {},
   "source": [
    "# 02. Text embeddings\n",
    "\n",
    "Text embeddings were a huge breakthrough in the field of NLP. These methods allow to capture the meaning of words, based on the context they typically occur in. In order to train such a model we typically don't need to have a labelled dataset, but just provide a text corpus, and the training phase will find the vectorization for each word. If any word is used in a similar manner to the different one, then probably they should have similar meaning - that's the intuition for the word embeddings."
   ]
  },
  {
   "cell_type": "markdown",
   "metadata": {},
   "source": [
    "## word2vec\n",
    "\n",
    "Word2vec is one approach to word embeddings. It was developed in 2013 at Google. There are actually two models created:\n",
    "- **CBOW** - Continuous Bag-of-Words, which finds the embeddings by predicting the current word based on the context \n",
    "- **Skip-gram** - Continuous Skip-Gram Model, which learns by predicting context for given word\n",
    "\n",
    "Typically, we can form quite a big text corpus and train the model on our own, however there are some pre-trained models which we can use in the project, to limit the time spent on the training. In our examples we're going to consider a model which is available at https://drive.google.com/file/d/0B7XkCwpI5KDYNlNUTTlSS21pQmM/edit?usp=sharing"
   ]
  },
  {
   "cell_type": "code",
   "execution_count": 59,
   "metadata": {},
   "outputs": [],
   "source": [
    "%matplotlib inline\n",
    "\n",
    "import gensim"
   ]
  },
  {
   "cell_type": "markdown",
   "metadata": {},
   "source": [
    "Gensim is a popular library for topic modelling and it allows to easily use the pretrained model from Google."
   ]
  },
  {
   "cell_type": "code",
   "execution_count": 3,
   "metadata": {},
   "outputs": [],
   "source": [
    "word2vec_model = gensim.models.KeyedVectors.load_word2vec_format(\"./model/GoogleNews-vectors-negative300.bin\", \n",
    "                                                                 binary=True)"
   ]
  },
  {
   "cell_type": "markdown",
   "metadata": {},
   "source": [
    "After loading the model we can check what embedding it has for a selected word. Let's consider \"Poland\" as an example."
   ]
  },
  {
   "cell_type": "code",
   "execution_count": 10,
   "metadata": {},
   "outputs": [
    {
     "name": "stderr",
     "output_type": "stream",
     "text": [
      "/opt/conda/lib/python3.6/site-packages/ipykernel_launcher.py:1: DeprecationWarning: Call to deprecated `wv` (Attribute will be removed in 4.0.0, use self instead).\n",
      "  \"\"\"Entry point for launching an IPython kernel.\n"
     ]
    },
    {
     "data": {
      "text/plain": [
       "array([ 1.66992188e-01,  3.32031250e-02,  2.79296875e-01,  1.40625000e-01,\n",
       "       -1.87500000e-01, -5.10253906e-02,  1.23535156e-01, -1.02539062e-01,\n",
       "       -6.78710938e-02, -1.53198242e-02, -3.97949219e-02, -1.62109375e-01,\n",
       "       -1.40625000e-01, -1.11816406e-01,  2.25585938e-01,  8.58306885e-04,\n",
       "       -6.10351562e-02,  2.05078125e-01,  6.15234375e-02, -2.67578125e-01,\n",
       "        3.26171875e-01,  1.05957031e-01,  1.21582031e-01, -3.94821167e-04,\n",
       "        1.13281250e-01,  1.04980469e-01, -3.78906250e-01,  1.26953125e-01,\n",
       "       -2.10937500e-01,  2.48046875e-01,  9.27734375e-02, -1.03027344e-01,\n",
       "       -1.21093750e-01, -1.26953125e-01,  8.10546875e-02, -4.37500000e-01,\n",
       "       -1.47460938e-01,  1.66015625e-01,  1.66015625e-01,  5.12695312e-02,\n",
       "        1.88476562e-01,  3.22265625e-02,  2.35351562e-01, -1.30859375e-01,\n",
       "       -1.75781250e-01, -5.21850586e-03, -1.66015625e-02,  5.15136719e-02,\n",
       "       -8.88671875e-02,  1.48437500e-01, -1.48315430e-02,  3.44238281e-02,\n",
       "       -1.76757812e-01,  1.86523438e-01, -1.10351562e-01, -3.49121094e-02,\n",
       "       -4.64843750e-01,  3.49121094e-02, -7.37304688e-02,  4.44335938e-02,\n",
       "        1.07910156e-01, -1.17675781e-01,  9.13085938e-02, -1.60156250e-01,\n",
       "        1.68457031e-02, -3.19824219e-02,  3.43750000e-01, -3.61328125e-01,\n",
       "        2.39257812e-02,  7.42187500e-02, -1.06933594e-01,  1.25122070e-02,\n",
       "       -9.71679688e-02, -8.82148743e-05, -1.08886719e-01, -2.27539062e-01,\n",
       "        1.59179688e-01, -6.17675781e-02,  3.73535156e-02,  1.99218750e-01,\n",
       "        5.27343750e-02, -2.61718750e-01,  6.05468750e-02, -2.83203125e-01,\n",
       "        1.60156250e-01, -2.03125000e-01, -2.03125000e-01, -8.97216797e-03,\n",
       "        2.59765625e-01,  3.54003906e-02,  1.05957031e-01, -1.86523438e-01,\n",
       "       -3.61328125e-01,  8.15429688e-02, -2.83203125e-01, -1.69921875e-01,\n",
       "       -4.95605469e-02, -2.16796875e-01, -2.18505859e-02, -2.40234375e-01,\n",
       "       -7.76367188e-02,  8.15429688e-02,  1.69921875e-01,  1.27929688e-01,\n",
       "       -5.46875000e-02, -1.57226562e-01,  8.00781250e-02,  1.20605469e-01,\n",
       "       -2.35351562e-01,  1.10473633e-02,  2.08007812e-01, -9.46044922e-04,\n",
       "       -1.75781250e-01, -1.93359375e-01, -5.90820312e-02,  1.40380859e-02,\n",
       "        2.88391113e-03, -2.04467773e-03,  3.63281250e-01,  2.39257812e-01,\n",
       "       -2.77343750e-01, -2.06054688e-01,  4.24804688e-02, -3.11279297e-02,\n",
       "       -2.35351562e-01,  5.27343750e-02,  5.49316406e-02, -4.71191406e-02,\n",
       "       -5.74218750e-01,  5.78613281e-02, -2.83203125e-01,  2.94189453e-02,\n",
       "       -1.20605469e-01, -2.25585938e-01,  6.83593750e-02,  1.26342773e-02,\n",
       "        2.94189453e-02, -1.01562500e-01,  1.66015625e-01, -7.86132812e-02,\n",
       "       -9.03320312e-02, -8.00781250e-02,  1.76757812e-01,  1.50390625e-01,\n",
       "        3.56445312e-02, -1.30615234e-02,  1.56250000e-01,  7.95898438e-02,\n",
       "       -3.14453125e-01, -1.06933594e-01,  3.06640625e-01, -2.51953125e-01,\n",
       "        2.50000000e-01,  2.67333984e-02,  1.31835938e-01,  6.64062500e-02,\n",
       "       -2.81250000e-01,  2.45117188e-01,  1.60156250e-01,  2.73437500e-01,\n",
       "       -9.52148438e-02, -7.37304688e-02, -1.40625000e-01, -1.66992188e-01,\n",
       "        3.63281250e-01,  4.00390625e-02, -8.00781250e-02,  2.61718750e-01,\n",
       "       -2.05078125e-02,  1.41601562e-01, -4.14062500e-01,  8.64257812e-02,\n",
       "        2.16796875e-01, -5.78613281e-02, -1.79687500e-01, -2.16796875e-01,\n",
       "        1.47460938e-01, -8.05664062e-02, -4.54101562e-02, -1.73828125e-01,\n",
       "        1.42578125e-01, -1.66992188e-01, -4.39453125e-02, -1.18652344e-01,\n",
       "        3.75000000e-01,  1.28906250e-01,  2.85156250e-01,  1.27563477e-02,\n",
       "       -1.91650391e-02,  6.22558594e-02, -3.12500000e-02, -1.33789062e-01,\n",
       "        3.69262695e-03, -7.17773438e-02, -9.86328125e-02,  1.33789062e-01,\n",
       "        5.95703125e-02, -1.69921875e-01, -2.32421875e-01, -2.75390625e-01,\n",
       "        2.46582031e-02, -6.64062500e-02, -3.24707031e-02,  1.85546875e-01,\n",
       "       -1.25000000e-01, -3.90625000e-02,  1.01074219e-01, -2.86865234e-02,\n",
       "       -3.71093750e-01,  5.05371094e-02,  1.25000000e-01, -1.11328125e-01,\n",
       "        5.37109375e-02,  2.09960938e-01, -1.46484375e-01, -8.44726562e-02,\n",
       "        2.67578125e-01,  8.78906250e-02,  3.47656250e-01, -1.52343750e-01,\n",
       "       -2.71484375e-01, -2.46093750e-01, -6.34765625e-02, -1.85546875e-01,\n",
       "       -2.15820312e-01, -1.66992188e-01, -1.77001953e-02, -4.44335938e-02,\n",
       "        1.41601562e-01, -3.69140625e-01, -8.78906250e-02, -1.05590820e-02,\n",
       "        8.15429688e-02, -4.05883789e-03,  9.61914062e-02,  2.20703125e-01,\n",
       "       -2.19726562e-01,  2.48718262e-03, -2.38281250e-01, -2.24609375e-01,\n",
       "       -1.66015625e-01, -1.48437500e-01, -7.08007812e-02,  6.29882812e-02,\n",
       "       -3.22265625e-02,  2.49023438e-01,  4.83398438e-02,  1.81884766e-02,\n",
       "        1.73339844e-02, -9.03320312e-02,  2.84423828e-02,  1.33789062e-01,\n",
       "        7.71484375e-02,  1.50390625e-01,  3.14941406e-02,  1.10839844e-01,\n",
       "        3.12500000e-01,  1.54296875e-01,  2.13867188e-01, -3.66210938e-02,\n",
       "        1.83593750e-01,  1.23046875e-01,  1.93359375e-01,  1.30859375e-01,\n",
       "        3.14453125e-01, -7.03125000e-02, -2.75390625e-01, -1.21093750e-01,\n",
       "        5.37109375e-02,  5.85937500e-02, -2.72216797e-02, -6.29882812e-02,\n",
       "       -4.54101562e-02, -1.08398438e-01,  1.78710938e-01, -8.48388672e-03,\n",
       "        2.61718750e-01,  1.61132812e-01, -1.22070312e-01,  1.11816406e-01,\n",
       "        7.22656250e-02,  3.37890625e-01, -3.03955078e-02,  2.42187500e-01,\n",
       "       -2.94921875e-01,  7.41577148e-03, -1.10351562e-01, -2.88391113e-03,\n",
       "       -1.03027344e-01, -4.51660156e-02, -1.47460938e-01, -8.05664062e-03,\n",
       "       -2.71484375e-01, -7.91015625e-02, -1.79687500e-01,  3.30078125e-01,\n",
       "       -5.41992188e-02, -8.34960938e-02,  2.15820312e-01,  1.14135742e-02],\n",
       "      dtype=float32)"
      ]
     },
     "execution_count": 10,
     "metadata": {},
     "output_type": "execute_result"
    }
   ],
   "source": [
    "word2vec_model.wv[\"Poland\"]"
   ]
  },
  {
   "cell_type": "markdown",
   "metadata": {},
   "source": [
    "One interesting thing is how the words are encoded - let's check the size of the word vector."
   ]
  },
  {
   "cell_type": "code",
   "execution_count": 18,
   "metadata": {},
   "outputs": [
    {
     "data": {
      "text/plain": [
       "(300,)"
      ]
     },
     "execution_count": 18,
     "metadata": {},
     "output_type": "execute_result"
    }
   ],
   "source": [
    "word2vec_model[\"Poland\"].shape"
   ]
  },
  {
   "cell_type": "markdown",
   "metadata": {},
   "source": [
    "These predefined embeddings have some useful properties and method.\n",
    "\n",
    "What is the most similar word to \"Poland\"?"
   ]
  },
  {
   "cell_type": "code",
   "execution_count": 19,
   "metadata": {},
   "outputs": [
    {
     "data": {
      "text/plain": [
       "[('Hungary', 0.7353940010070801),\n",
       " ('Polish', 0.7315449714660645),\n",
       " ('Czech_Republic', 0.7253509163856506),\n",
       " ('Romania', 0.706570029258728),\n",
       " ('Lithuania', 0.6741173267364502),\n",
       " ('Slovakia', 0.6652309894561768),\n",
       " ('Poles', 0.6495026350021362),\n",
       " ('Bulgaria', 0.6347231864929199),\n",
       " ('Germany', 0.6326087713241577),\n",
       " ('Ukraine', 0.6317868828773499)]"
      ]
     },
     "execution_count": 19,
     "metadata": {},
     "output_type": "execute_result"
    }
   ],
   "source": [
    "word2vec_model.similar_by_word(\"Poland\")"
   ]
  },
  {
   "cell_type": "markdown",
   "metadata": {},
   "source": [
    "We can also do some mathematical operations on the vectors. \n",
    "\n",
    "Let see what is the most probable word for the following expression:\n",
    "`Nadal + woman - man`"
   ]
  },
  {
   "cell_type": "code",
   "execution_count": 22,
   "metadata": {},
   "outputs": [
    {
     "data": {
      "text/plain": [
       "[('Sharapova', 0.8143725395202637),\n",
       " ('Mauresmo', 0.8027024269104004),\n",
       " ('Kuznetsova', 0.8018689155578613),\n",
       " ('Clijsters', 0.8017486929893494),\n",
       " ('Henin_Hardenne', 0.7852493524551392),\n",
       " ('Henin', 0.7840852737426758),\n",
       " ('Hantuchova', 0.7797292470932007),\n",
       " ('Jankovic', 0.7751113176345825),\n",
       " ('Federer', 0.7742401361465454),\n",
       " ('Dementieva', 0.7710806131362915)]"
      ]
     },
     "execution_count": 22,
     "metadata": {},
     "output_type": "execute_result"
    }
   ],
   "source": [
    "word2vec_model.most_similar(positive=[\"Nadal\", \"woman\"], negative=[\"man\"])"
   ]
  },
  {
   "cell_type": "markdown",
   "metadata": {},
   "source": [
    "### Visualizing word embeddings\n",
    "\n",
    "As word embeddings are able to carry the meaning of the words, not only their presence, visualizing them may be also quite useful. Unfortunately, vectors with size of 300 are not so easy to be displayed and understood by humans. Thanks for dimensionality reduction methods, we can limit their size to just 2 or 3 dimensions ans keep some of the most important properties.\n",
    "\n",
    "**PCA** is one of the most common methods (**t-SNE** is another well-known one) and scikit-learn has it implemented."
   ]
  },
  {
   "cell_type": "code",
   "execution_count": null,
   "metadata": {},
   "outputs": [
    {
     "data": {
      "text/plain": [
       "PCA(copy=True, iterated_power='auto', n_components=2, random_state=2019,\n",
       "  svd_solver='auto', tol=0.0, whiten=False)"
      ]
     },
     "execution_count": 62,
     "metadata": {},
     "output_type": "execute_result"
    }
   ],
   "source": [
    "from sklearn.decomposition import PCA\n",
    "\n",
    "pca = PCA(n_components=2, random_state=2019)\n",
    "pca.fit(word2vec_model.vectors)"
   ]
  },
  {
   "cell_type": "code",
   "execution_count": 63,
   "metadata": {},
   "outputs": [
    {
     "data": {
      "text/plain": [
       "array([[-0.13296461, -0.3069521 ]], dtype=float32)"
      ]
     },
     "execution_count": 63,
     "metadata": {},
     "output_type": "execute_result"
    }
   ],
   "source": [
    "pca.transform((word2vec_model[\"Poland\"], ))"
   ]
  },
  {
   "cell_type": "code",
   "execution_count": 80,
   "metadata": {},
   "outputs": [
    {
     "data": {
      "image/png": "[encoded data removed]",
      "text/plain": [
       "<Figure size 1152x648 with 1 Axes>"
      ]
     },
     "metadata": {
      "needs_background": "light"
     },
     "output_type": "display_data"
    }
   ],
   "source": [
    "from matplotlib import pyplot as plt\n",
    "plt.rcParams[\"figure.figsize\"] = (16, 9)\n",
    "plt.rcParams.update({\"font.size\": 15})\n",
    "\n",
    "WORDS = (\"Poland\", \"Germany\", \"Russia\",\n",
    "         \"Warsaw\", \"Berlin\", \"Moscow\")\n",
    "\n",
    "fig, ax = plt.subplots()\n",
    "for word in WORDS:\n",
    "    vectors = pca.transform((word2vec_model[word], ))\n",
    "    x, y = vectors.T\n",
    "    ax.scatter(x, y, label=word)\n",
    "ax.legend()\n",
    "plt.show()"
   ]
  },
  {
   "cell_type": "markdown",
   "metadata": {},
   "source": [
    "## doc2vec\n",
    "\n",
    "Word2vec is very useful when it comes to word embeddings, but if we want to work with whole documents, it is more complex, as we don't want to encode single words anymore, but the content of whole texts.\n",
    "\n",
    "There is a similar method, also available in gensim, that allows to perform vectorization not only on words level, but for the whole documents as well. You may find some pretrained models for doc2vec as well - in our case we took the one trained on English Wikipedia from https://github.com/jhlau/doc2vec. It was trained with CBOW approach, so the word order doesn't matter at all."
   ]
  },
  {
   "cell_type": "code",
   "execution_count": 81,
   "metadata": {},
   "outputs": [],
   "source": [
    "doc2vec_model = gensim.models.Doc2Vec.load(\"model/doc2vec.bin\")"
   ]
  },
  {
   "cell_type": "code",
   "execution_count": 1,
   "metadata": {},
   "outputs": [
    {
     "ename": "NameError",
     "evalue": "name 'doc2vec_model' is not defined",
     "traceback": [
      "\u001b[0;31m---------------------------------------------------------------------------\u001b[0m",
      "\u001b[0;31mNameError\u001b[0m                                 Traceback (most recent call last)",
      "\u001b[0;32m<ipython-input-1-e274d15c11ac>\u001b[0m in \u001b[0;36m<module>\u001b[0;34m\u001b[0m\n\u001b[0;32m----> 1\u001b[0;31m \u001b[0mis_vector\u001b[0m \u001b[0;34m=\u001b[0m \u001b[0mdoc2vec_model\u001b[0m\u001b[0;34m.\u001b[0m\u001b[0minfer_vector\u001b[0m\u001b[0;34m(\u001b[0m\u001b[0;34m(\u001b[0m\u001b[0;34m\"Warsaw is a capital of Poland\"\u001b[0m\u001b[0;34m,\u001b[0m \u001b[0;34m)\u001b[0m\u001b[0;34m)\u001b[0m\u001b[0;34m\u001b[0m\u001b[0;34m\u001b[0m\u001b[0m\n\u001b[0m\u001b[1;32m      2\u001b[0m \u001b[0mis_not_vector\u001b[0m \u001b[0;34m=\u001b[0m \u001b[0mdoc2vec_model\u001b[0m\u001b[0;34m.\u001b[0m\u001b[0minfer_vector\u001b[0m\u001b[0;34m(\u001b[0m\u001b[0;34m(\u001b[0m\u001b[0;34m\"Berlin is a capital of Germany\"\u001b[0m\u001b[0;34m,\u001b[0m \u001b[0;34m)\u001b[0m\u001b[0;34m)\u001b[0m\u001b[0;34m\u001b[0m\u001b[0;34m\u001b[0m\u001b[0m\n",
      "\u001b[0;31mNameError\u001b[0m: name 'doc2vec_model' is not defined"
     ],
     "output_type": "error"
    }
   ],
   "source": [
    "is_vector = doc2vec_model.infer_vector((\"Warsaw is a capital of Poland\", ))\n",
    "is_not_vector = doc2vec_model.infer_vector((\"Berlin is a capital of Germany\", ))"
   ]
  },
  {
   "cell_type": "code",
   "execution_count": 96,
   "metadata": {},
   "outputs": [
    {
     "data": {
      "text/plain": [
       "0.023428412"
      ]
     },
     "execution_count": 96,
     "metadata": {},
     "output_type": "execute_result"
    }
   ],
   "source": [
    "import numpy.linalg\n",
    "\n",
    "numpy.linalg.norm(is_vector - is_not_vector)"
   ]
  },
  {
   "cell_type": "code",
   "execution_count": null,
   "metadata": {},
   "outputs": [],
   "source": []
  }
 ],
 "metadata": {
  "kernelspec": {
   "display_name": "Python 3",
   "language": "python",
   "name": "python3"
  },
  "language_info": {
   "codemirror_mode": {
    "name": "ipython",
    "version": 3
   },
   "file_extension": ".py",
   "mimetype": "text/x-python",
   "name": "python",
   "nbconvert_exporter": "python",
   "pygments_lexer": "ipython3",
   "version": "3.6.7"
  }
 },
 "nbformat": 4,
 "nbformat_minor": 2
}
