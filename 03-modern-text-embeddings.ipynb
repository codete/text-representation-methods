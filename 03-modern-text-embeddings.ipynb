{
 "cells": [
  {
   "cell_type": "markdown",
   "metadata": {},
   "source": [
    "# 03. Modern text embeddings\n",
    "\n",
    "All the previous methods of making text representations were based on a naive assumption that words are the smallest units of language. The truth is, **it depends on context**.\n",
    "\n",
    "Do you know the meaning of a word \"account\"?\n",
    "https://en.oxforddictionaries.com/definition/account\n",
    "\n",
    "Based on that, modern approaches to text embeddings no longer use a single embedding per basic unit (word/document) but encodes in them in a whole context."
   ]
  },
  {
   "cell_type": "markdown",
   "metadata": {},
   "source": [
    "## ELMo\n",
    "\n",
    "If we use word2vec for word embeddings, for a particular word we'll always get the same vector.\n",
    "\n",
    "![alt text](image/elmo-embedding-robin-williams.png)\n",
    "\n",
    "Source: https://jalammar.github.io/illustrated-bert/"
   ]
  },
  {
   "cell_type": "markdown",
   "metadata": {},
   "source": [
    "When using ELMo, there are mutliple embeddings, depending on a context."
   ]
  }
 ],
 "metadata": {
  "kernelspec": {
   "display_name": "Python 3",
   "language": "python",
   "name": "python3"
  },
  "language_info": {
   "codemirror_mode": {
    "name": "ipython",
    "version": 3
   },
   "file_extension": ".py",
   "mimetype": "text/x-python",
   "name": "python",
   "nbconvert_exporter": "python",
   "pygments_lexer": "ipython3",
   "version": "3.6.7"
  }
 },
 "nbformat": 4,
 "nbformat_minor": 2
}
